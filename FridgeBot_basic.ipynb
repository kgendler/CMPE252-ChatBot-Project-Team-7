{
 "cells": [
  {
   "cell_type": "code",
   "execution_count": 10,
   "metadata": {},
   "outputs": [],
   "source": [
    "from chatterbot import ChatBot\n",
    "from chatterbot.trainers import ListTrainer, ChatterBotCorpusTrainer\n",
    "from chatterbot import comparisons, response_selection\n",
    "from chatterbot.comparisons import levenshtein_distance"
   ]
  },
  {
   "cell_type": "code",
   "execution_count": 20,
   "metadata": {},
   "outputs": [
    {
     "name": "stdout",
     "output_type": "stream",
     "text": [
      "Training ai.yml: [#########           ] 45%"
     ]
    },
    {
     "name": "stderr",
     "output_type": "stream",
     "text": [
      "[nltk_data] Downloading package averaged_perceptron_tagger to\n",
      "[nltk_data]     /Users/sajitjumani/nltk_data...\n",
      "[nltk_data]   Package averaged_perceptron_tagger is already up-to-\n",
      "[nltk_data]       date!\n",
      "[nltk_data] Downloading package punkt to\n",
      "[nltk_data]     /Users/sajitjumani/nltk_data...\n",
      "[nltk_data]   Package punkt is already up-to-date!\n",
      "[nltk_data] Downloading package stopwords to\n",
      "[nltk_data]     /Users/sajitjumani/nltk_data...\n",
      "[nltk_data]   Package stopwords is already up-to-date!\n"
     ]
    },
    {
     "name": "stdout",
     "output_type": "stream",
     "text": [
      "Training ai.yml: [####################] 100%\n",
      "Training botprofile.yml: [####################] 100%\n",
      "Training computers.yml: [####################] 100%\n",
      "Training conversations.yml: [####################] 100%\n",
      "Training emotion.yml: [####################] 100%\n",
      "Training food.yml: [####################] 100%\n",
      "Training gossip.yml: [####################] 100%\n",
      "Training greetings.yml: [####################] 100%\n",
      "Training health.yml: [####################] 100%\n",
      "Training history.yml: [####################] 100%\n",
      "Training humor.yml: [####################] 100%\n",
      "Training literature.yml: [####################] 100%\n",
      "Training money.yml: [####################] 100%\n",
      "Training movies.yml: [####################] 100%\n",
      "Training politics.yml: [####################] 100%\n",
      "Training psychology.yml: [####################] 100%\n",
      "Training science.yml: [####################] 100%\n",
      "Training sports.yml: [####################] 100%\n",
      "Training trivia.yml: [####################] 100%\n",
      "List Trainer: [####################] 100%\n",
      "Hi there!\n",
      "I am good.\n",
      "Regular or Non-Fat?\n",
      "You're welcome.\n"
     ]
    }
   ],
   "source": [
    "chatbot = ChatBot(\n",
    "    'FridgeBot',\n",
    "    logic_adapters=[\n",
    "        #'chatterbot.logic.MathematicalEvaluation',\n",
    "        #'chatterbot.logic.TimeLogicAdapter',\n",
    "        'chatterbot.logic.BestMatch',\n",
    "    ]\n",
    ")\n",
    "\n",
    "\n",
    "        #'chatterbot.comparisons.levenshtein_distance',\n",
    "        #\"statement_comparison_function\": chatterbot.JaccardSimilarity,\n",
    "        #\"statement_comparison_function\": chatterbot.comparisons.SynsetDistance,\n",
    "        #'chatterbot.response_selection.get_first_response',\n",
    "        #\"response_selection_method\": chatterbot.response_selection.get_most_frequent_response,\n",
    "        \n",
    "        \n",
    "trainer = ChatterBotCorpusTrainer(chatbot)\n",
    "trainer.train('chatterbot.corpus.english')\n",
    "\n",
    "trainer = ListTrainer(chatbot)\n",
    "trainer.train([\n",
    "    'Where is the milk?',\n",
    "    'Regular or Non-Fat?',\n",
    "    'Regular.',\n",
    "    'It is in the refrigerator, on the left side.',\n",
    "    'Thank you.',\n",
    "])\n",
    "\n",
    "# Print an example of getting a response\n",
    "response = chatbot.get_response('Hello')\n",
    "print(response)\n",
    "\n",
    "# Print an example of getting a response\n",
    "response = chatbot.get_response('How are you?')\n",
    "print(response)\n",
    "\n",
    "# Print an example of getting a response\n",
    "response = chatbot.get_response('Where is the milk?')\n",
    "print(response)\n",
    "\n",
    "# Print an example of getting a response\n",
    "response = chatbot.get_response('Thank you')\n",
    "print(response)"
   ]
  },
  {
   "cell_type": "code",
   "execution_count": null,
   "metadata": {},
   "outputs": [],
   "source": []
  }
 ],
 "metadata": {
  "kernelspec": {
   "display_name": "Python 3",
   "language": "python",
   "name": "python3"
  },
  "language_info": {
   "codemirror_mode": {
    "name": "ipython",
    "version": 3
   },
   "file_extension": ".py",
   "mimetype": "text/x-python",
   "name": "python",
   "nbconvert_exporter": "python",
   "pygments_lexer": "ipython3",
   "version": "3.8.5"
  }
 },
 "nbformat": 4,
 "nbformat_minor": 4
}
